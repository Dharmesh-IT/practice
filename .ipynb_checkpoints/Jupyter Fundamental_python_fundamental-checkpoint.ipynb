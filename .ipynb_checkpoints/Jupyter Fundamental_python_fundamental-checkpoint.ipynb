{
 "cells": [
  {
   "cell_type": "code",
   "execution_count": 1,
   "id": "538ad03c",
   "metadata": {},
   "outputs": [],
   "source": [
    "first_list=['jack',101,23.6,'test',False,'Alice',['Ravi','Alex']]"
   ]
  },
  {
   "cell_type": "code",
   "execution_count": 2,
   "id": "5d04dfe7",
   "metadata": {},
   "outputs": [
    {
     "name": "stdout",
     "output_type": "stream",
     "text": [
      "<class 'list'>\n"
     ]
    }
   ],
   "source": [
    "print(type(first_list))"
   ]
  },
  {
   "cell_type": "code",
   "execution_count": 9,
   "id": "bccce833",
   "metadata": {},
   "outputs": [],
   "source": [
    "first_list.insert(1,\"Antony\")"
   ]
  },
  {
   "cell_type": "code",
   "execution_count": 4,
   "id": "4edae60b",
   "metadata": {},
   "outputs": [
    {
     "name": "stdout",
     "output_type": "stream",
     "text": [
      "['jack', 'Antony', 101, 23.6, 'test', False, 'Alice', ['Ravi', 'Alex']]\n"
     ]
    }
   ],
   "source": [
    "print(first_list)"
   ]
  },
  {
   "cell_type": "code",
   "execution_count": 8,
   "id": "4f535f9e",
   "metadata": {},
   "outputs": [
    {
     "name": "stdout",
     "output_type": "stream",
     "text": [
      "test\n"
     ]
    }
   ],
   "source": [
    "removed_value=first_list.pop(2)\n",
    "print(removed_value)"
   ]
  },
  {
   "cell_type": "code",
   "execution_count": 10,
   "id": "d4d4eab0",
   "metadata": {},
   "outputs": [
    {
     "name": "stdout",
     "output_type": "stream",
     "text": [
      "['jack', 'Antony', 'Antony', False, 'Alice', ['Ravi', 'Alex']]\n"
     ]
    }
   ],
   "source": [
    "print(first_list)"
   ]
  },
  {
   "cell_type": "code",
   "execution_count": 11,
   "id": "dd68cfe0",
   "metadata": {},
   "outputs": [],
   "source": [
    "first_list.remove('Antony')"
   ]
  },
  {
   "cell_type": "code",
   "execution_count": 12,
   "id": "3ffaeab1",
   "metadata": {},
   "outputs": [
    {
     "name": "stdout",
     "output_type": "stream",
     "text": [
      "['jack', 'Antony', False, 'Alice', ['Ravi', 'Alex']]\n"
     ]
    }
   ],
   "source": [
    "print(first_list)"
   ]
  },
  {
   "cell_type": "code",
   "execution_count": 15,
   "id": "300c360f",
   "metadata": {},
   "outputs": [
    {
     "data": {
      "text/plain": [
       "['Ravi', 'Alex']"
      ]
     },
     "execution_count": 15,
     "metadata": {},
     "output_type": "execute_result"
    }
   ],
   "source": [
    "first_list[4]"
   ]
  },
  {
   "cell_type": "code",
   "execution_count": 16,
   "id": "08319ba5",
   "metadata": {},
   "outputs": [],
   "source": [
    "first_list[4].remove('Ravi')"
   ]
  },
  {
   "cell_type": "code",
   "execution_count": 17,
   "id": "b718a19e",
   "metadata": {},
   "outputs": [
    {
     "name": "stdout",
     "output_type": "stream",
     "text": [
      "['jack', 'Antony', False, 'Alice', ['Alex']]\n"
     ]
    }
   ],
   "source": [
    "print(first_list)"
   ]
  },
  {
   "cell_type": "code",
   "execution_count": 18,
   "id": "558ce43d",
   "metadata": {},
   "outputs": [
    {
     "data": {
      "text/plain": [
       "'Alex'"
      ]
     },
     "execution_count": 18,
     "metadata": {},
     "output_type": "execute_result"
    }
   ],
   "source": [
    "first_list[4].pop()"
   ]
  },
  {
   "cell_type": "code",
   "execution_count": 19,
   "id": "d6581edd",
   "metadata": {},
   "outputs": [
    {
     "name": "stdout",
     "output_type": "stream",
     "text": [
      "['jack', 'Antony', False, 'Alice', []]\n"
     ]
    }
   ],
   "source": [
    "print(first_list)"
   ]
  },
  {
   "cell_type": "code",
   "execution_count": 20,
   "id": "8d045c1b",
   "metadata": {},
   "outputs": [
    {
     "name": "stdout",
     "output_type": "stream",
     "text": [
      "[]\n"
     ]
    }
   ],
   "source": [
    "print(first_list[4])"
   ]
  },
  {
   "cell_type": "markdown",
   "id": "dd4b2037",
   "metadata": {},
   "source": [
    "## Heart Disease project \n",
    "\n",
    "\n",
    "this project is about classifying whether or not a patient has heart disease."
   ]
  },
  {
   "cell_type": "code",
   "execution_count": 1,
   "id": "a551f32f",
   "metadata": {},
   "outputs": [],
   "source": [
    "import pandas as pd"
   ]
  }
 ],
 "metadata": {
  "kernelspec": {
   "display_name": "Python 3",
   "language": "python",
   "name": "python3"
  },
  "language_info": {
   "codemirror_mode": {
    "name": "ipython",
    "version": 3
   },
   "file_extension": ".py",
   "mimetype": "text/x-python",
   "name": "python",
   "nbconvert_exporter": "python",
   "pygments_lexer": "ipython3",
   "version": "3.8.8"
  }
 },
 "nbformat": 4,
 "nbformat_minor": 5
}
